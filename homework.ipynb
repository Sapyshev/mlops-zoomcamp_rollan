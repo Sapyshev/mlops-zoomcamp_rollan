{
 "cells": [
  {
   "cell_type": "code",
   "execution_count": 1,
   "id": "7525e867",
   "metadata": {},
   "outputs": [],
   "source": [
    "import pandas as pd\n",
    "import seaborn as sns\n",
    "\n",
    "from sklearn.feature_extraction import DictVectorizer\n",
    "from sklearn.linear_model import LinearRegression\n",
    "\n",
    "from sklearn.metrics import mean_squared_error"
   ]
  },
  {
   "cell_type": "code",
   "execution_count": 91,
   "id": "b669241d",
   "metadata": {},
   "outputs": [],
   "source": [
    "    df['duration'] = df.tpep_dropoff_datetime - df.tpep_pickup_datetime\n",
    "    df['duration'] = df.duration.dt.total_seconds() / 60\n",
    "    df = df[(df.duration >= 1) & (df.duration <= 60)].copy()\n",
    "    \n",
    "    categorical = ['PULocationID', 'DOLocationID']\n",
    "    df[categorical] = df[categorical].astype('str')\n",
    "    train_dicts = df[categorical].to_dict(orient='records')\n",
    "    X_train = dv.transform(train_dicts)\n",
    "    y_train = df.duration.values\n",
    "    return X_train, y_train"
   ]
  },
  {
   "cell_type": "code",
   "execution_count": 95,
   "id": "e504ea98",
   "metadata": {},
   "outputs": [
    {
     "name": "stdout",
     "output_type": "stream",
     "text": [
      "Question 1: Number of columns in Jan 2022 Yellow Taxi Trip data is 19 columns\n",
      "Question 2: Standard deviation of the trips duration in Jan 2022 Yellow Taxi Trip data is 46.45 minutes\n",
      "Question 3: Fraction of the records left after dropping the outliers is 98%\n",
      "Question 4: Dimensionality after OHE is 515 columns\n",
      "Question 5: RMSE on train is 6.99 columns\n"
     ]
    }
   ],
   "source": [
    "    df = pd.read_parquet(\"../data/yellow_tripdata_2022-01.parquet\")\n",
    "    print(\"Question 1: Number of columns in Jan 2022 Yellow Taxi Trip data is \"+ str(df.shape[1]) + \" columns\")\n",
    "\n",
    "    df['duration'] = df.tpep_dropoff_datetime - df.tpep_pickup_datetime\n",
    "    df['duration'] = df.duration.dt.total_seconds() / 60\n",
    "    print(\"Question 2: Standard deviation of the trips duration in Jan 2022 Yellow Taxi Trip data is \"+ str(round(df.duration.std(),2)) + \" minutes\")\n",
    "\n",
    "    old_len = len(df)\n",
    "    df = df[(df.duration >= 1) & (df.duration <= 60)].copy()\n",
    "    print(\"Question 3: Fraction of the records left after dropping the outliers is \"+ str(round(len(df)/old_len*100)) + \"%\")\n",
    "\n",
    "    categorical = ['PULocationID', 'DOLocationID']\n",
    "    df[categorical] = df[categorical].astype('str')\n",
    "    train_dicts = df[categorical].to_dict(orient='records')\n",
    "\n",
    "    dv = DictVectorizer()\n",
    "    X_train = dv.fit_transform(train_dicts) \n",
    "    print(\"Question 4: Dimensionality after OHE is \"+ str(X_train.shape[1]) + \" columns\")\n",
    "\n",
    "    lr = LinearRegression()\n",
    "    lr.fit(X_train, y_train)\n",
    "    y_pred = lr.predict(X_train)\n",
    "    print(\"Question 5: RMSE on train is \"+ str(round(mean_squared_error(y_train, y_pred, squared=False),2)) + \" columns\")\n"
   ]
  },
  {
   "cell_type": "code",
   "execution_count": 101,
   "id": "4854399a",
   "metadata": {},
   "outputs": [],
   "source": [
    "df_val = pd.read_parquet('../data/yellow_tripdata_2022-02.parquet')\n",
    "df_val['duration'] = df_val.tpep_dropoff_datetime - df_val.tpep_pickup_datetime\n",
    "df_val['duration'] = df_val.duration.dt.total_seconds() / 60\n",
    "df_val = df_val[(df_val.duration >= 1) & (df_val.duration <= 60)].copy()\n",
    "\n",
    "categorical = ['PULocationID', 'DOLocationID']\n",
    "df_val[categorical] = df_val[categorical].astype('str')\n",
    "val_dicts = df_val[categorical].to_dict(orient='records')\n",
    "X_val = dv.transform(val_dicts)\n",
    "y_val = df_val.duration.values"
   ]
  },
  {
   "cell_type": "code",
   "execution_count": 102,
   "id": "7f8f950d",
   "metadata": {},
   "outputs": [],
   "source": [
    "y_pred = lr.predict(X_val)"
   ]
  },
  {
   "cell_type": "code",
   "execution_count": 103,
   "id": "8a277ab9",
   "metadata": {},
   "outputs": [
    {
     "data": {
      "text/plain": [
       "7.786409148550689"
      ]
     },
     "execution_count": 103,
     "metadata": {},
     "output_type": "execute_result"
    }
   ],
   "source": [
    "mean_squared_error(y_val, y_pred, squared=False)"
   ]
  }
 ],
 "metadata": {
  "kernelspec": {
   "display_name": "Python 3 (ipykernel)",
   "language": "python",
   "name": "python3"
  },
  "language_info": {
   "codemirror_mode": {
    "name": "ipython",
    "version": 3
   },
   "file_extension": ".py",
   "mimetype": "text/x-python",
   "name": "python",
   "nbconvert_exporter": "python",
   "pygments_lexer": "ipython3",
   "version": "3.10.10"
  }
 },
 "nbformat": 4,
 "nbformat_minor": 5
}
